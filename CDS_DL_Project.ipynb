{
  "nbformat": 4,
  "nbformat_minor": 0,
  "metadata": {
    "colab": {
      "provenance": []
    },
    "kernelspec": {
      "name": "python3",
      "display_name": "Python 3"
    },
    "language_info": {
      "name": "python"
    }
  },
  "cells": [
    {
      "cell_type": "code",
      "execution_count": null,
      "metadata": {
        "id": "q0KU43FVFIwS"
      },
      "outputs": [],
      "source": [
        "import PIL\n",
        "from PIL import Image"
      ]
    },
    {
      "cell_type": "code",
      "source": [
        "from IPython.display import display"
      ],
      "metadata": {
        "id": "HRVdcgWBFO1L"
      },
      "execution_count": null,
      "outputs": []
    },
    {
      "cell_type": "code",
      "source": [
        "import numpy as np\n",
        "import pandas as pd"
      ],
      "metadata": {
        "id": "Zbif_SHSFRkR"
      },
      "execution_count": null,
      "outputs": []
    },
    {
      "cell_type": "code",
      "source": [
        "import tensorflow as tf\n",
        "\n",
        "from tensorflow import keras\n",
        "from tensorflow.keras import layers\n",
        "\n",
        "print(tf.__version__)"
      ],
      "metadata": {
        "colab": {
          "base_uri": "https://localhost:8080/"
        },
        "id": "qGGWxh9NFUg6",
        "outputId": "931cd38d-bf2b-4585-ff89-0ca1b572036a"
      },
      "execution_count": null,
      "outputs": [
        {
          "output_type": "stream",
          "name": "stdout",
          "text": [
            "2.14.0\n"
          ]
        }
      ]
    },
    {
      "cell_type": "markdown",
      "source": [
        "### **Defining Functions**\n"
      ],
      "metadata": {
        "id": "8OkeFb4KFgDg"
      }
    },
    {
      "cell_type": "code",
      "source": [
        "# Generate Random R,G,B value\n",
        "import random\n",
        "def generate_random_rgb():\n",
        "    return (int(random.uniform(0,255)), int(random.uniform(0,255)), int(random.uniform(0,255)))"
      ],
      "metadata": {
        "id": "aOQjv0b0FYLP"
      },
      "execution_count": null,
      "outputs": []
    },
    {
      "cell_type": "code",
      "source": [
        "# Create a new image with the given size\n",
        "def create_image(i, j):\n",
        "  image = Image.new(\"RGB\", (i, j), color=generate_random_rgb())\n",
        "  return image"
      ],
      "metadata": {
        "id": "Hyql4mjPFpGC"
      },
      "execution_count": null,
      "outputs": []
    },
    {
      "cell_type": "code",
      "source": [
        "# Get the pixel from the given image\n",
        "def get_pixel(image, i, j):\n",
        "  # Inside image bounds?\n",
        "  width, height = image.size\n",
        "  if i > width or j > height:\n",
        "    return None\n",
        "  # Get Pixel\n",
        "  pixel = image.getpixel((i, j))\n",
        "  return pixel"
      ],
      "metadata": {
        "id": "od4rpwS8FsOk"
      },
      "execution_count": null,
      "outputs": []
    },
    {
      "cell_type": "markdown",
      "source": [
        "### **Training the model**"
      ],
      "metadata": {
        "id": "99xX6yIeFuS5"
      }
    },
    {
      "cell_type": "code",
      "source": [
        "#Load model from github into colab\n",
        "import os\n",
        "import urllib.request\n",
        "urllib.request.urlretrieve('https://github.com/AjinkyaChavan9/RGB-Color-Classifier-with-Deep-Learning-using-Keras-and-Tensorflow/blob/master/RGB%20Color%20Classifier%20ML%20Model/colormodel_trained_89.h5?raw=true', 'colormodel_trained_89.h5')"
      ],
      "metadata": {
        "colab": {
          "base_uri": "https://localhost:8080/"
        },
        "id": "aSSx0UL8Fs3-",
        "outputId": "6f9807e4-458e-4325-dc17-4209495ced4d"
      },
      "execution_count": null,
      "outputs": [
        {
          "output_type": "execute_result",
          "data": {
            "text/plain": [
              "('colormodel_trained_89.h5', <http.client.HTTPMessage at 0x7de246895600>)"
            ]
          },
          "metadata": {},
          "execution_count": 8
        }
      ]
    },
    {
      "cell_type": "code",
      "source": [
        "ls"
      ],
      "metadata": {
        "colab": {
          "base_uri": "https://localhost:8080/"
        },
        "id": "JEijHvWcGnmc",
        "outputId": "91a995b3-b77f-4f26-d355-c7e3c677aa91"
      },
      "execution_count": null,
      "outputs": [
        {
          "output_type": "stream",
          "name": "stdout",
          "text": [
            "colormodel_trained_89.h5  \u001b[0m\u001b[01;34msample_data\u001b[0m/\n"
          ]
        }
      ]
    },
    {
      "cell_type": "code",
      "source": [
        "# Recreate the exact same model, including its weights and the optimizer\n",
        "model = tf.keras.models.load_model('colormodel_trained_89.h5')"
      ],
      "metadata": {
        "id": "U1QGjdv-Gx-V"
      },
      "execution_count": null,
      "outputs": []
    },
    {
      "cell_type": "code",
      "source": [
        "# Show the model architecture\n",
        "model.summary()"
      ],
      "metadata": {
        "colab": {
          "base_uri": "https://localhost:8080/"
        },
        "id": "h5MtLeX5G1Sz",
        "outputId": "268b2d23-df54-4a65-fcf9-e844c67aadcf"
      },
      "execution_count": null,
      "outputs": [
        {
          "output_type": "stream",
          "name": "stdout",
          "text": [
            "Model: \"sequential_4\"\n",
            "_________________________________________________________________\n",
            " Layer (type)                Output Shape              Param #   \n",
            "=================================================================\n",
            " dense_12 (Dense)            (None, 3)                 12        \n",
            "                                                                 \n",
            " dense_13 (Dense)            (None, 24)                96        \n",
            "                                                                 \n",
            " dense_14 (Dense)            (None, 11)                275       \n",
            "                                                                 \n",
            "=================================================================\n",
            "Total params: 383 (1.50 KB)\n",
            "Trainable params: 383 (1.50 KB)\n",
            "Non-trainable params: 0 (0.00 Byte)\n",
            "_________________________________________________________________\n"
          ]
        }
      ]
    },
    {
      "cell_type": "markdown",
      "source": [
        "### **Mapping Color Index**"
      ],
      "metadata": {
        "id": "FdovVFrTG9zY"
      }
    },
    {
      "cell_type": "code",
      "source": [
        "# Mapping the Color Index with the respective 11 Classes\n",
        "color_dict={\n",
        "    0 : 'Red',\n",
        "    1 : 'Green',\n",
        "    2 : 'Blue',\n",
        "    3 : 'Yellow',\n",
        "    4 : 'Orange',\n",
        "    5 : 'Pink',\n",
        "    6 : 'Purple',\n",
        "    7 : 'Brown',\n",
        "    8 : 'Grey',\n",
        "    9 : 'Black',\n",
        "    10 : 'White'\n",
        "}"
      ],
      "metadata": {
        "id": "NRgkw7XVG3B9"
      },
      "execution_count": null,
      "outputs": []
    },
    {
      "cell_type": "markdown",
      "source": [
        "### **Generating 'n' Random Images and Predicting their Color Class**"
      ],
      "metadata": {
        "id": "qVOSlYU8HCvI"
      }
    },
    {
      "cell_type": "code",
      "source": [
        "# User input for number of images to be classified\n",
        "n = int(input('Enter number of images to be classified: '))"
      ],
      "metadata": {
        "colab": {
          "base_uri": "https://localhost:8080/"
        },
        "id": "nQD5TfsVG87M",
        "outputId": "f71710ec-b55c-4110-d62d-a040a9dfce36"
      },
      "execution_count": null,
      "outputs": [
        {
          "name": "stdout",
          "output_type": "stream",
          "text": [
            "Enter number of images to be classified: 5\n"
          ]
        }
      ]
    },
    {
      "cell_type": "code",
      "source": [
        "#predicting from loaded trained_model\n",
        "for i in range(n) :\n",
        "    img = create_image(235,235) #(235,235) is the (width,heigth) of the image\n",
        "    rgb = get_pixel(img,200,200) # any pixel within the image is given\n",
        "    rgb = np.asarray(rgb) #rgb to numpy array\n",
        "    input_rgb = np.reshape(rgb, (-1,3)) #reshaping as per input to ANN model\n",
        "    display(img)\n",
        "    color_class_confidence = model.predict(input_rgb) # Output of layer is in terms of Confidence of the 11 classes\n",
        "    color_index = np.argmax(color_class_confidence, axis=1) #finding the color_class index from confidence\n",
        "    color = color_dict[int(color_index)]\n",
        "    print('            ' + color)\n",
        "    print()"
      ],
      "metadata": {
        "colab": {
          "base_uri": "https://localhost:8080/",
          "height": 1000
        },
        "id": "KgwuodnxHSgX",
        "outputId": "357f6558-2d80-4b7a-f2fe-b8fb2ca96341"
      },
      "execution_count": null,
      "outputs": [
        {
          "output_type": "display_data",
          "data": {
            "text/plain": [
              "<PIL.Image.Image image mode=RGB size=235x235>"
            ],
            "image/png": "[encoded data removed]"
          },
          "metadata": {}
        },
        {
          "output_type": "stream",
          "name": "stdout",
          "text": [
            "1/1 [==============================] - 0s 232ms/step\n",
            "            Green\n",
            "\n"
          ]
        },
        {
          "output_type": "display_data",
          "data": {
            "text/plain": [
              "<PIL.Image.Image image mode=RGB size=235x235>"
            ],
            "image/png": "[encoded data removed]"
          },
          "metadata": {}
        },
        {
          "output_type": "stream",
          "name": "stdout",
          "text": [
            "1/1 [==============================] - 0s 33ms/step\n",
            "            Pink\n",
            "\n"
          ]
        },
        {
          "output_type": "display_data",
          "data": {
            "text/plain": [
              "<PIL.Image.Image image mode=RGB size=235x235>"
            ],
            "image/png": "[encoded data removed]"
          },
          "metadata": {}
        },
        {
          "output_type": "stream",
          "name": "stdout",
          "text": [
            "1/1 [==============================] - 0s 83ms/step\n",
            "            Red\n",
            "\n"
          ]
        },
        {
          "output_type": "display_data",
          "data": {
            "text/plain": [
              "<PIL.Image.Image image mode=RGB size=235x235>"
            ],
            "image/png": "[encoded data removed]"
          },
          "metadata": {}
        },
        {
          "output_type": "stream",
          "name": "stdout",
          "text": [
            "1/1 [==============================] - 0s 89ms/step\n",
            "            Blue\n",
            "\n"
          ]
        },
        {
          "output_type": "display_data",
          "data": {
            "text/plain": [
              "<PIL.Image.Image image mode=RGB size=235x235>"
            ],
            "image/png": "[encoded data removed]"
          },
          "metadata": {}
        },
        {
          "output_type": "stream",
          "name": "stdout",
          "text": [
            "1/1 [==============================] - 0s 30ms/step\n",
            "            Orange\n",
            "\n"
          ]
        }
      ]
    },
    {
      "cell_type": "code",
      "source": [],
      "metadata": {
        "id": "hn8p5pcaHZ5z"
      },
      "execution_count": null,
      "outputs": []
    }
  ]
}